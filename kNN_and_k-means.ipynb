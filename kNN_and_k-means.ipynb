{
 "cells": [
  {
   "cell_type": "code",
   "execution_count": 1,
   "id": "4d943b0b-cf3a-42c0-96b5-bcb255886e32",
   "metadata": {},
   "outputs": [],
   "source": [
    "import os\n",
    "from sklearn.neighbors import KNeighborsClassifier\n",
    "from sklearn.model_selection import train_test_split\n",
    "from sklearn.metrics import accuracy_score\n",
    "from sklearn.preprocessing import LabelEncoder\n",
    "from sklearn.preprocessing import StandardScaler\n",
    "from sklearn.decomposition import PCA\n",
    "from skimage import io, transform\n",
    "import cv2\n",
    "import numpy as np\n",
    "import matplotlib.pyplot as plt\n",
    "import torch\n",
    "import torch.nn as nn\n",
    "import torch.optim as optim\n",
    "from torch.utils.data import Dataset, DataLoader\n",
    "import numpy as np\n"
   ]
  },
  {
   "cell_type": "code",
   "execution_count": 5,
   "id": "c18ba27d-24c3-4592-9181-7366cb9008a1",
   "metadata": {},
   "outputs": [],
   "source": [
    "    # image = cv2.resize(image, (width, height))"
   ]
  },
  {
   "cell_type": "code",
   "execution_count": 4,
   "id": "ad9e801a-3509-4ca6-9460-a4a8876c673d",
   "metadata": {},
   "outputs": [
    {
     "name": "stdout",
     "output_type": "stream",
     "text": [
      "\n",
      "Processing images in brown folder:\n",
      "\n",
      "Processing images in green folder:\n",
      "\n",
      "Processing images in blue folder:\n",
      "\n",
      "Processing images in silver folder:\n",
      "\n",
      "Processing images in grey folder:\n",
      "\n",
      "Processing images in pink folder:\n",
      "\n",
      "Processing images in red folder:\n",
      "\n",
      "Processing images in gold folder:\n",
      "\n",
      "Processing images in purple folder:\n",
      "\n",
      "Processing images in beige folder:\n",
      "\n",
      "Processing images in yellow folder:\n",
      "\n",
      "Processing images in white folder:\n",
      "\n",
      "Processing images in black folder:\n",
      "\n",
      "Processing images in tan folder:\n",
      "\n",
      "Processing images in orange folder:\n",
      "\n",
      "Processing images in brown folder:\n",
      "\n",
      "Processing images in green folder:\n",
      "\n",
      "Processing images in blue folder:\n",
      "\n",
      "Processing images in silver folder:\n",
      "\n",
      "Processing images in grey folder:\n",
      "\n",
      "Processing images in pink folder:\n",
      "\n",
      "Processing images in red folder:\n",
      "\n",
      "Processing images in gold folder:\n",
      "\n",
      "Processing images in purple folder:\n",
      "\n",
      "Processing images in beige folder:\n",
      "\n",
      "Processing images in yellow folder:\n",
      "\n",
      "Processing images in white folder:\n",
      "\n",
      "Processing images in black folder:\n",
      "\n",
      "Processing images in tan folder:\n",
      "\n",
      "Processing images in orange folder:\n"
     ]
    }
   ],
   "source": [
    "def extract_dominant_color(image_path,k):#  k in kmeans\n",
    "    image = cv2.imread(image_path)\n",
    "\n",
    "    image = cv2.cvtColor(image, cv2.COLOR_BGR2RGB)\n",
    "    pixels = np.float32(image.reshape((-1, 3)))\n",
    "    criteria = (cv2.TERM_CRITERIA_EPS + cv2.TERM_CRITERIA_MAX_ITER, 10, 1.0)\n",
    "    _, labels, centers = cv2.kmeans(pixels, k, None, criteria, 10, cv2.KMEANS_RANDOM_CENTERS)\n",
    "    centers = np.uint8(centers)\n",
    "    dominant_color = centers[np.argmax(np.unique(labels, return_counts=True)[1])]\n",
    "\n",
    "    return dominant_color\n",
    "\n",
    "def load_data(folder_path):\n",
    "    images = []\n",
    "    labels = []\n",
    "    dominant_colors = []\n",
    "    k=1 #change k in kmeans here accordingly ------------------\n",
    "\n",
    "    for color_folder in os.listdir(folder_path):\n",
    "        color_path = os.path.join(folder_path, color_folder)\n",
    "        if os.path.isdir(color_path):\n",
    "            print(f\"\\nProcessing images in {color_folder} folder:\")\n",
    "\n",
    "\n",
    "            for image_file in os.listdir(color_path):\n",
    "                image_path = os.path.join(color_path, image_file)\n",
    "                if image_file.lower() == '.ds_store':\n",
    "                    print(f\"Skipping {image_path}\")\n",
    "                    continue\n",
    "\n",
    "                try:\n",
    "                    valid_extensions = ['.jpg', '.jpeg', '.png']\n",
    "                    if os.path.isfile(image_path) and any(image_path.lower().endswith(ext) for ext in valid_extensions):\n",
    "                        image = io.imread(image_path)\n",
    "                        images.append(transform.resize(image, (100, 100)))  \n",
    "                        labels.append(color_folder)\n",
    "\n",
    "                        dominant_color = extract_dominant_color(image_path,k)\n",
    "                        dominant_colors.append(dominant_color)\n",
    "\n",
    "                except Exception as e:\n",
    "                    print(f\"Error loading image {image_path}: {e}\")\n",
    "\n",
    "    return images, labels, dominant_colors\n",
    "\n",
    "\n",
    "train_folder_path = '/Users/tolga/Desktop/CS464/archive/train'\n",
    "validation_folder_path = '/Users/tolga/Desktop/CS464/archive/val'\n",
    "\n",
    "train_images, train_labels, train_dominant_colors = load_data(train_folder_path)\n",
    "validation_images, validation_labels, validation_dominant_colors = load_data(validation_folder_path)"
   ]
  },
  {
   "cell_type": "code",
   "execution_count": 5,
   "id": "b769aaa9-71b4-4fa8-a2d6-560e86a9f7e6",
   "metadata": {},
   "outputs": [
    {
     "data": {
      "text/plain": [
       "(7267, 100, 100, 3)"
      ]
     },
     "execution_count": 5,
     "metadata": {},
     "output_type": "execute_result"
    }
   ],
   "source": [
    "np.shape(train_images)"
   ]
  },
  {
   "cell_type": "code",
   "execution_count": 6,
   "id": "692a9c0f-6cef-47bf-b8d4-1cb836baa561",
   "metadata": {},
   "outputs": [],
   "source": [
    "k=[]\n",
    "acc=[]\n",
    "for i in range(1,50):\n",
    "    knn_classifier = KNeighborsClassifier(n_neighbors=i)\n",
    "\n",
    "    knn_classifier.fit(train_dominant_colors, train_labels)\n",
    "\n",
    "    validation_predictions = knn_classifier.predict(validation_dominant_colors)\n",
    "\n",
    "    accuracy = accuracy_score(validation_labels, validation_predictions)\n",
    "    k.append(i)\n",
    "    acc.append(accuracy)"
   ]
  },
  {
   "cell_type": "code",
   "execution_count": 9,
   "id": "a24f4b49-b4b1-4371-8d0b-bdfd29856ef6",
   "metadata": {},
   "outputs": [
    {
     "data": {
      "image/png": "[encoded data removed]",
      "text/plain": [
       "<Figure size 432x288 with 1 Axes>"
      ]
     },
     "metadata": {
      "needs_background": "light"
     },
     "output_type": "display_data"
    }
   ],
   "source": [
    "plt.plot(k,acc)\n",
    "plt.xlabel('kNN k')\n",
    "plt.ylabel('Accuracy')\n",
    "plt.legend(['k means clustering k=1'])\n",
    "plt.title('Acuuracy vs k values in both kNN and kMeans Clustring')\n",
    "plt.savefig('v3.png')"
   ]
  },
  {
   "cell_type": "code",
   "execution_count": 63,
   "id": "b24877d3-2433-4a87-b1f1-da9007df2b90",
   "metadata": {},
   "outputs": [
    {
     "data": {
      "text/plain": [
       "0.5529032258064516"
      ]
     },
     "execution_count": 63,
     "metadata": {},
     "output_type": "execute_result"
    }
   ],
   "source": [
    "np.argmax(acc_2)\n",
    "max(acc_2)"
   ]
  },
  {
   "cell_type": "markdown",
   "id": "940bc535-85a9-44a5-8d2e-3b9a1a96434b",
   "metadata": {},
   "source": [
    "#accuracy 1,2,3,4 =[0.3658064516129032, 0.3567741935483871, 0.36, 0.3638709677419355, 0.38, 0.3832258064516129, 0.39161290322580644, 0.39483870967741935, 0.3993548387096774, 0.4032258064516129, 0.4045161290322581, 0.4032258064516129, 0.40903225806451615, 0.40903225806451615, 0.41419354838709677, 0.4103225806451613, 0.412258064516129, 0.4135483870967742, 0.42129032258064514, 0.4161290322580645, 0.4129032258064516, 0.4154838709677419, 0.4096774193548387, 0.4070967741935484, 0.40774193548387094, 0.40903225806451615, 0.40838709677419355, 0.41096774193548385, 0.41096774193548385, 0.412258064516129, 0.4103225806451613, 0.4103225806451613, 0.41161290322580646, 0.412258064516129, 0.412258064516129, 0.40903225806451615, 0.40774193548387094, 0.4038709677419355, 0.40064516129032257, 0.4012903225806452, 0.40064516129032257, 0.40064516129032257, 0.40064516129032257, 0.4, 0.40516129032258064, 0.4032258064516129, 0.4012903225806452, 0.3967741935483871, 0.3967741935483871] [0.39419354838709675, 0.3825806451612903, 0.4045161290322581, 0.4096774193548387, 0.42129032258064514, 0.43032258064516127, 0.43032258064516127, 0.43032258064516127, 0.4309677419354839, 0.44451612903225807, 0.4509677419354839, 0.4529032258064516, 0.4535483870967742, 0.4535483870967742, 0.45741935483870966, 0.4593548387096774, 0.4593548387096774, 0.4561290322580645, 0.4509677419354839, 0.45548387096774196, 0.45548387096774196, 0.4541935483870968, 0.4509677419354839, 0.44451612903225807, 0.44967741935483874, 0.4509677419354839, 0.4406451612903226, 0.4425806451612903, 0.447741935483871, 0.447741935483871, 0.4464516129032258, 0.4464516129032258, 0.44516129032258067, 0.44516129032258067, 0.4458064516129032, 0.44903225806451613, 0.44387096774193546, 0.44516129032258067, 0.44387096774193546, 0.44193548387096776, 0.44387096774193546, 0.4464516129032258, 0.44193548387096776, 0.44129032258064516, 0.44129032258064516, 0.44193548387096776, 0.4393548387096774, 0.4367741935483871, 0.43806451612903224] [0.4780645161290323, 0.47483870967741937, 0.5025806451612903, 0.5309677419354839, 0.5277419354838709, 0.5367741935483871, 0.5425806451612903, 0.5406451612903226, 0.547741935483871, 0.5458064516129032, 0.5464516129032259, 0.5438709677419354, 0.5509677419354839, 0.5490322580645162, 0.5529032258064516, 0.5503225806451613, 0.5496774193548387, 0.5490322580645162, 0.5490322580645162, 0.5432258064516129, 0.5412903225806451, 0.5496774193548387, 0.5406451612903226, 0.5374193548387097, 0.5387096774193548, 0.5335483870967742, 0.5316129032258065, 0.5270967741935484, 0.5270967741935484, 0.5309677419354839, 0.5264516129032258, 0.5251612903225806, 0.5225806451612903, 0.5258064516129032, 0.5225806451612903, 0.5238709677419355, 0.5193548387096775, 0.5193548387096775, 0.5212903225806451, 0.515483870967742, 0.5180645161290323, 0.5193548387096775, 0.5180645161290323, 0.5212903225806451, 0.5161290322580645, 0.5187096774193548, 0.5193548387096775, 0.5212903225806451, 0.5206451612903226] [0.5161290322580645, 0.49483870967741933, 0.5264516129032258, 0.5283870967741936, 0.5348387096774193, 0.5367741935483871, 0.5438709677419354, 0.5432258064516129, 0.5425806451612903, 0.5496774193548387, 0.547741935483871, 0.5483870967741935, 0.5490322580645162, 0.552258064516129, 0.5458064516129032, 0.5464516129032259, 0.5464516129032259, 0.5490322580645162, 0.5470967741935484, 0.5483870967741935, 0.547741935483871, 0.5406451612903226, 0.547741935483871, 0.5516129032258065, 0.5516129032258065, 0.5509677419354839, 0.5470967741935484, 0.5503225806451613, 0.5496774193548387, 0.5464516129032259, 0.5464516129032259, 0.5490322580645162, 0.5464516129032259, 0.5464516129032259, 0.5438709677419354, 0.5509677419354839, 0.5432258064516129, 0.5425806451612903, 0.5445161290322581, 0.5483870967741935, 0.5490322580645162, 0.5470967741935484, 0.5445161290322581, 0.5432258064516129, 0.5438709677419354, 0.5451612903225806, 0.5445161290322581, 0.5458064516129032, 0.547741935483871]#4,3,2,1"
   ]
  },
  {
   "cell_type": "code",
   "execution_count": null,
   "id": "a22eebea-d78d-4686-ac05-453ade9064e1",
   "metadata": {},
   "outputs": [],
   "source": []
  }
 ],
 "metadata": {
  "kernelspec": {
   "display_name": "Python 3 (ipykernel)",
   "language": "python",
   "name": "python3"
  },
  "language_info": {
   "codemirror_mode": {
    "name": "ipython",
    "version": 3
   },
   "file_extension": ".py",
   "mimetype": "text/x-python",
   "name": "python",
   "nbconvert_exporter": "python",
   "pygments_lexer": "ipython3",
   "version": "3.9.7"
  }
 },
 "nbformat": 4,
 "nbformat_minor": 5
}
